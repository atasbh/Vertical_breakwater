{
 "cells": [
  {
   "cell_type": "code",
   "execution_count": 1,
   "metadata": {},
   "outputs": [],
   "source": [
    "import numpy as np\n",
    "import pandas as pd\n",
    "import matplotlib.pyplot as plt\n",
    "from scipy.signal import argrelextrema\n",
    "import seaborn as sb\n",
    "import math\n",
    "from datetime import date\n",
    "from windrose import WindroseAxes\n",
    "from scipy.interpolate import griddata\n",
    "import matplotlib.pyplot as plt"
   ]
  },
  {
   "cell_type": "code",
   "execution_count": 34,
   "metadata": {},
   "outputs": [],
   "source": [
    "Hs = 6.92\n",
    "Tp = 11.6\n",
    "H_max = 1.6*Hs\n",
    "T_max = Tp\n",
    "beta = np.deg2rad(0)\n",
    "d = 15\n",
    "b = 16\n",
    "h = 20\n",
    "h_prime = 16\n",
    "h0 = h\n",
    "hc = 10\n",
    "hb = 2.5\n",
    "\n",
    "L0 = 1.56*(Tp**2)\n",
    "K0 = 2*3.14/L0\n",
    "L = L0*np.tanh(np.sinh(np.sqrt(K0*h0)))\n",
    "\n",
    "rho = 1025\n",
    "g = 9.81\n",
    "gamma_w = rho*g\n",
    "\n",
    "alpha_1 = 0.6+(0.5)*((4*h*np.pi/L)/(np.sinh(4*h*np.pi/L)))\n",
    "alpha_2 = min(((hb-d)/(3*hb))*(H_max/d)**2, (2*d/H_max))\n",
    "alpha_3 = 1 - (h_prime/h)*(1-1/np.cosh(2*h*3.14/L))\n",
    "\n",
    "n_star = 0.75*(1+np.cos(beta))*H_max\n",
    "\n",
    "P_1 = (0.5)*(1+np.cos(beta))*(alpha_1+alpha_2*(np.cos(beta)**2))*gamma_w*H_max\n",
    "P_2 = P_1*(n_star-hc)/n_star\n",
    "P_3 = alpha_3*P_1\n",
    "\n",
    "\n",
    "\n",
    "x = 0.5*((pw - u)/P)"
   ]
  },
  {
   "cell_type": "code",
   "execution_count": 28,
   "metadata": {},
   "outputs": [
    {
     "data": {
      "text/plain": [
       "(979.9882896963335, 389.91826940711536, 757.2268180141223, 757.2268180141223)"
      ]
     },
     "execution_count": 28,
     "metadata": {},
     "output_type": "execute_result"
    }
   ],
   "source": [
    "P_1, P_2, P_3, P_4"
   ]
  },
  {
   "cell_type": "code",
   "execution_count": 36,
   "metadata": {},
   "outputs": [
    {
     "data": {
      "text/plain": [
       "True"
      ]
     },
     "execution_count": 36,
     "metadata": {},
     "output_type": "execute_result"
    }
   ],
   "source": [
    "n_star > hc"
   ]
  },
  {
   "cell_type": "code",
   "execution_count": 41,
   "metadata": {},
   "outputs": [
    {
     "data": {
      "text/plain": [
       "(389.9182694071154, 10)"
      ]
     },
     "execution_count": 41,
     "metadata": {},
     "output_type": "execute_result"
    }
   ],
   "source": [
    "P_4 = P_1*(1-hc/n_star)\n",
    "hc_star = min(n_star, hc)\n",
    "P_4, hc_star"
   ]
  },
  {
   "cell_type": "code",
   "execution_count": 42,
   "metadata": {},
   "outputs": [
    {
     "data": {
      "text/plain": [
       "20747.25365720089"
      ]
     },
     "execution_count": 42,
     "metadata": {},
     "output_type": "execute_result"
    }
   ],
   "source": [
    "P = (0.5)*(P_1+P_3)*h_prime+(0.5*(P_1+P_4)*hc_star)\n",
    "P"
   ]
  },
  {
   "cell_type": "code",
   "execution_count": 44,
   "metadata": {},
   "outputs": [
    {
     "data": {
      "text/plain": [
       "254856.95015947495"
      ]
     },
     "execution_count": 44,
     "metadata": {},
     "output_type": "execute_result"
    }
   ],
   "source": [
    "Mp = ((1/6)*(2*P_1+P_3)*(h_prime**2))+(0.5*(P_1+P_4)*h_prime*hc_star)+((1/6)*(P_1+2*P_4)*(hc_star**2))\n",
    "Mp"
   ]
  },
  {
   "cell_type": "code",
   "execution_count": 62,
   "metadata": {},
   "outputs": [],
   "source": [
    "Pu = (0.5)*(1+np.cos(beta))*alpha_1*alpha_3*gamma_w*H_max\n",
    "U = (0.5)*Pu*b\n",
    "Mu = (2/3)*U*b"
   ]
  },
  {
   "cell_type": "code",
   "execution_count": 63,
   "metadata": {},
   "outputs": [
    {
     "data": {
      "text/plain": [
       "(630989.3245773717, 6730552.795491965)"
      ]
     },
     "execution_count": 63,
     "metadata": {},
     "output_type": "execute_result"
    }
   ],
   "source": [
    "U, Mu"
   ]
  },
  {
   "cell_type": "code",
   "execution_count": 60,
   "metadata": {},
   "outputs": [
    {
     "data": {
      "text/plain": [
       "6092.833875"
      ]
     },
     "execution_count": 60,
     "metadata": {},
     "output_type": "execute_result"
    }
   ],
   "source": [
    "W = (b*(h_prime+1)*2.1*9.81)+((hb-1)*b+(((hc-hb)*((3.5+2)/2)))*2.3*9.81)\n",
    "W"
   ]
  },
  {
   "cell_type": "code",
   "execution_count": 64,
   "metadata": {},
   "outputs": [
    {
     "data": {
      "text/plain": [
       "204.36125041046628"
      ]
     },
     "execution_count": 64,
     "metadata": {},
     "output_type": "execute_result"
    }
   ],
   "source": [
    "mu = 0.6\n",
    "Fv = -U+(W*1000)-(0.5*P_4*b)\n",
    "Fh = (0.5*(P_1+P_2)*hc)+(0.5*(P_2+P_3)*h_prime)\n",
    "\n",
    "SF_sliding = mu*Fv/Fh\n",
    "SF_sliding"
   ]
  },
  {
   "cell_type": "code",
   "execution_count": 65,
   "metadata": {},
   "outputs": [
    {
     "data": {
      "text/plain": [
       "True"
      ]
     },
     "execution_count": 65,
     "metadata": {},
     "output_type": "execute_result"
    }
   ],
   "source": [
    "SF_sliding > 1.4"
   ]
  },
  {
   "cell_type": "code",
   "execution_count": 69,
   "metadata": {},
   "outputs": [],
   "source": [
    "Mw = W*1000*(b/2)\n",
    "Mp = Fh*(d/3)"
   ]
  },
  {
   "cell_type": "code",
   "execution_count": 70,
   "metadata": {},
   "outputs": [
    {
     "data": {
      "text/plain": [
       "7.156792886649589"
      ]
     },
     "execution_count": 70,
     "metadata": {},
     "output_type": "execute_result"
    }
   ],
   "source": [
    "SF_overturning = Mw/(Mp+Mu)\n",
    "SF_overturning"
   ]
  },
  {
   "cell_type": "code",
   "execution_count": 71,
   "metadata": {},
   "outputs": [
    {
     "data": {
      "text/plain": [
       "True"
      ]
     },
     "execution_count": 71,
     "metadata": {},
     "output_type": "execute_result"
    }
   ],
   "source": [
    "SF_overturning > 1.5"
   ]
  },
  {
   "cell_type": "code",
   "execution_count": null,
   "metadata": {},
   "outputs": [],
   "source": []
  }
 ],
 "metadata": {
  "kernelspec": {
   "display_name": "Python 3 (ipykernel)",
   "language": "python",
   "name": "python3"
  },
  "language_info": {
   "codemirror_mode": {
    "name": "ipython",
    "version": 3
   },
   "file_extension": ".py",
   "mimetype": "text/x-python",
   "name": "python",
   "nbconvert_exporter": "python",
   "pygments_lexer": "ipython3",
   "version": "3.9.0"
  }
 },
 "nbformat": 4,
 "nbformat_minor": 4
}
